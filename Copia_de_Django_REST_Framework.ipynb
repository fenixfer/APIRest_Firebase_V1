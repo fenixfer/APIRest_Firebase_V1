{
  "nbformat": 4,
  "nbformat_minor": 0,
  "metadata": {
    "colab": {
      "name": "Copia de Django REST Framework.ipynb",
      "provenance": [],
      "authorship_tag": "ABX9TyMwiAgYM/awenUOpiXfyu90",
      "include_colab_link": true
    },
    "kernelspec": {
      "name": "python3",
      "display_name": "Python 3"
    },
    "language_info": {
      "name": "python"
    }
  },
  "cells": [
    {
      "cell_type": "markdown",
      "metadata": {
        "id": "view-in-github",
        "colab_type": "text"
      },
      "source": [
        "<a href=\"https://colab.research.google.com/github/fenixfer/APIRest_Firebase_V1/blob/master/Copia_de_Django_REST_Framework.ipynb\" target=\"_parent\"><img src=\"https://colab.research.google.com/assets/colab-badge.svg\" alt=\"Open In Colab\"/></a>"
      ]
    },
    {
      "cell_type": "markdown",
      "metadata": {
        "id": "1Ubd62iBx3VH"
      },
      "source": [
        "# Django\n",
        "---"
      ]
    },
    {
      "cell_type": "markdown",
      "metadata": {
        "id": "LL41mB7b4w6V"
      },
      "source": [
        "1. Crear una nueva carpeta en el escritorio, y hacer ``cd``\n",
        "\n",
        "2. Creamos proyecto:   `` python3 venv ./envs/blogfer ``\n",
        "\n",
        "3. Activamos el entorno virtual:   ``source ./envs/blogfer/bin/activate``\n",
        "\n",
        "4. Instalamos django cuando en la terminal este con el entorno activado ``blogfer`` -> ``pip3 install django``\n",
        "\n",
        "Si aparece para instalar la nueva versión hacemos: ``pip3 -m pip install --upgrade pip``\n",
        "\n",
        "5. Creamos el proyecto de **Django** ahi y como se va a llamar:  ``django-admin startproject blogfer``\n",
        "\n",
        "6. Entramos a la carpeda del proyecto de Django: ``cd blogfer``\n",
        "\n",
        "7. Realizamos las migraciones: ``python3 manage.py migrate``\n",
        "\n",
        "8. Creamos el panel superusuario para entrar al panel: ``python3 manage.py createsuperuser``\n",
        "\n",
        "9. Levantamos la aplicación: ``python3 manage.py runserver``"
      ]
    },
    {
      "cell_type": "markdown",
      "metadata": {
        "id": "gm6SRTGz4xg3"
      },
      "source": [
        ""
      ]
    },
    {
      "cell_type": "markdown",
      "metadata": {
        "id": "v_9G3ViT4xsq"
      },
      "source": [
        ""
      ]
    },
    {
      "cell_type": "markdown",
      "metadata": {
        "id": "enrG44Ld4x1c"
      },
      "source": [
        ""
      ]
    },
    {
      "cell_type": "markdown",
      "metadata": {
        "id": "3WIYhSiE4x9_"
      },
      "source": [
        ""
      ]
    }
  ]
}